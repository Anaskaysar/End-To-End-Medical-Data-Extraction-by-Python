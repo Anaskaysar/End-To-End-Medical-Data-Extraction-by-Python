{
 "cells": [
  {
   "cell_type": "code",
   "execution_count": 1,
   "metadata": {},
   "outputs": [],
   "source": [
    "from pdf2image import convert_from_path\n",
    "\n",
    "pages = convert_from_path(\"../resources/prescription/pre_1.pdf\", poppler_path=r'C:\\poppler-21.02.0\\Library\\bin')\n",
    "pages[0].show()\n"
   ]
  },
  {
   "cell_type": "code",
   "execution_count": 2,
   "metadata": {},
   "outputs": [
    {
     "name": "stdout",
     "output_type": "stream",
     "text": [
      "Dr John Smith, M.D\n",
      "2 Non-Important Street,\n",
      "New York, Phone (000)-111-2222\n",
      "\n",
      "Name: Maria Sharapova Date: 5/11/2022\n",
      "\n",
      "Address: 9 tennis court, new Russia, DC\n",
      "\n",
      "—momennannenncmneneunnmnnnnninsissiyoinnitnahaadaanih issn earnttneenrenen:\n",
      "\n",
      "Prednisone 20 mg\n",
      "Lialda 2.4 gram\n",
      "\n",
      "3 days,\n",
      "\n",
      "or 1 month\n"
     ]
    }
   ],
   "source": [
    "import pytesseract\n",
    "\n",
    "pytesseract.pytesseract.tesseract_cmd=r'C:\\Program Files\\Tesseract-OCR\\tesseract.exe'\n",
    "text = pytesseract.image_to_string(pages[0], lang='eng')\n",
    "print(text)"
   ]
  },
  {
   "cell_type": "code",
   "execution_count": 3,
   "metadata": {},
   "outputs": [],
   "source": [
    "import numpy as np\n",
    "import cv2\n",
    "from PIL import Image\n",
    "\n",
    "def preprocess_image(img):\n",
    "    gray = cv2.cvtColor(np.array(img), cv2.COLOR_BGR2GRAY)\n",
    "    resized = cv2.resize(gray, None, fx=1.5, fy=1.5, interpolation=cv2.INTER_LINEAR)\n",
    "    processed_image = cv2.adaptiveThreshold(\n",
    "        resized,\n",
    "        255,\n",
    "        cv2.ADAPTIVE_THRESH_GAUSSIAN_C, \n",
    "        cv2.THRESH_BINARY, \n",
    "        61,\n",
    "        11\n",
    "    )\n",
    "    return processed_image"
   ]
  },
  {
   "cell_type": "code",
   "execution_count": 4,
   "metadata": {},
   "outputs": [],
   "source": [
    "img = preprocess_image(pages[0])\n",
    "Image.fromarray(img).show()\n"
   ]
  },
  {
   "cell_type": "code",
   "execution_count": 5,
   "metadata": {},
   "outputs": [
    {
     "name": "stdout",
     "output_type": "stream",
     "text": [
      "Dr John Smith, M.D\n",
      "2 Non-Important Street,\n",
      "New York, Phone (000)-111-2222\n",
      "\n",
      "Name: Marta Sharapova Date: 5/11/2022\n",
      "\n",
      "Address: 9 tennis court, new Russia, DC\n",
      "\n",
      "K\n",
      "\n",
      "Prednisone 20 mg\n",
      "Lialda 2.4 gram\n",
      "\n",
      "Directions:\n",
      "\n",
      "Prednisone, Taper 5 mg every 3 days,\n",
      "Finish in 2.5 weeks a\n",
      "Lialda - take 2 pill everyday for 1 month\n",
      "\n",
      "Refill: 2 times\n"
     ]
    }
   ],
   "source": [
    "import pytesseract\n",
    "pytesseract.pytesseract.tesseract_cmd=r'C:\\Program Files\\Tesseract-OCR\\tesseract.exe'\n",
    "text = pytesseract.image_to_string(img, lang= 'eng')\n",
    "print(text)"
   ]
  },
  {
   "cell_type": "code",
   "execution_count": 7,
   "metadata": {},
   "outputs": [
    {
     "data": {
      "text/plain": [
       "'Marta Sharapova'"
      ]
     },
     "execution_count": 7,
     "metadata": {},
     "output_type": "execute_result"
    }
   ],
   "source": [
    "import re\n",
    "pattern = \"Name:(.*)Date\"\n",
    "name = re.findall(pattern,text)\n",
    "name[0].strip()  #strip will remove any leading and trailing white spaces from our output"
   ]
  },
  {
   "cell_type": "code",
   "execution_count": 8,
   "metadata": {},
   "outputs": [
    {
     "data": {
      "text/plain": [
       "'9 tennis court, new Russia, DC'"
      ]
     },
     "execution_count": 8,
     "metadata": {},
     "output_type": "execute_result"
    }
   ],
   "source": [
    "pattern_for_the_address = \"Address:(.*)\\n\"  #another way- Address:[^\\n]*\n",
    "address = re.findall(pattern_for_the_address,text)\n",
    "address[0].strip()"
   ]
  },
  {
   "cell_type": "code",
   "execution_count": 11,
   "metadata": {},
   "outputs": [
    {
     "name": "stdout",
     "output_type": "stream",
     "text": [
      "K\n",
      "\n",
      "Prednisone 20 mg\n",
      "Lialda 2.4 gram\n"
     ]
    }
   ],
   "source": [
    "pattern = 'Address:[^\\n]*(.*)Directions'\n",
    "\n",
    "matches = re.findall(pattern, text, flags=re.DOTALL)\n",
    "print(matches[0].strip())"
   ]
  },
  {
   "cell_type": "code",
   "execution_count": 12,
   "metadata": {},
   "outputs": [
    {
     "data": {
      "text/plain": [
       "'Prednisone, Taper 5 mg every 3 days,\\nFinish in 2.5 weeks a\\nLialda - take 2 pill everyday for 1 month'"
      ]
     },
     "execution_count": 12,
     "metadata": {},
     "output_type": "execute_result"
    }
   ],
   "source": [
    "pattern = 'Directions:(.*)Refill'\n",
    "\n",
    "matches = re.findall(pattern, text, flags=re.DOTALL)\n",
    "matches[0].strip()"
   ]
  },
  {
   "cell_type": "code",
   "execution_count": 13,
   "metadata": {},
   "outputs": [
    {
     "data": {
      "text/plain": [
       "'2'"
      ]
     },
     "execution_count": 13,
     "metadata": {},
     "output_type": "execute_result"
    }
   ],
   "source": [
    "pattern = 'Refill:(.*)times'\n",
    "\n",
    "matches = re.findall(pattern, text, flags=re.DOTALL)\n",
    "matches[0].strip()"
   ]
  },
  {
   "cell_type": "code",
   "execution_count": null,
   "metadata": {},
   "outputs": [],
   "source": []
  }
 ],
 "metadata": {
  "kernelspec": {
   "display_name": "Python 3",
   "language": "python",
   "name": "python3"
  },
  "language_info": {
   "codemirror_mode": {
    "name": "ipython",
    "version": 3
   },
   "file_extension": ".py",
   "mimetype": "text/x-python",
   "name": "python",
   "nbconvert_exporter": "python",
   "pygments_lexer": "ipython3",
   "version": "3.8.10"
  },
  "orig_nbformat": 4,
  "vscode": {
   "interpreter": {
    "hash": "6dd4dbfb17be9045a2a0554e1e503e87d35dcb15510409fb707a25b83c2c99ce"
   }
  }
 },
 "nbformat": 4,
 "nbformat_minor": 2
}
