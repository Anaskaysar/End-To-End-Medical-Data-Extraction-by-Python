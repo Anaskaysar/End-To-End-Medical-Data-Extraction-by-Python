{
 "cells": [
  {
   "cell_type": "code",
   "execution_count": 2,
   "metadata": {},
   "outputs": [],
   "source": [
    "import cv2\n",
    "from PIL import Image"
   ]
  },
  {
   "cell_type": "markdown",
   "metadata": {},
   "source": [
    "Simple Threshold For Clear Image"
   ]
  },
  {
   "cell_type": "code",
   "execution_count": 3,
   "metadata": {},
   "outputs": [
    {
     "data": {
      "text/plain": [
       "array([[206, 206, 206, ..., 185, 185, 185],\n",
       "       [206, 206, 206, ..., 185, 185, 185],\n",
       "       [206, 206, 206, ..., 186, 185, 185],\n",
       "       ...,\n",
       "       [207, 207, 207, ..., 191, 190, 190],\n",
       "       [207, 207, 207, ..., 191, 190, 190],\n",
       "       [207, 207, 207, ..., 191, 191, 190]], dtype=uint8)"
      ]
     },
     "execution_count": 3,
     "metadata": {},
     "output_type": "execute_result"
    }
   ],
   "source": [
    "img = cv2.imread(\"../resources/clear_image.jpg\", flags = cv2.IMREAD_GRAYSCALE)\n",
    "img"
   ]
  },
  {
   "cell_type": "code",
   "execution_count": 4,
   "metadata": {},
   "outputs": [],
   "source": [
    "Image.fromarray(img).show()"
   ]
  },
  {
   "cell_type": "code",
   "execution_count": 7,
   "metadata": {},
   "outputs": [],
   "source": [
    "_, new_img = cv2.threshold(img,150,255,cv2.THRESH_BINARY)"
   ]
  },
  {
   "cell_type": "code",
   "execution_count": 8,
   "metadata": {},
   "outputs": [],
   "source": [
    "Image.fromarray(new_img).show()"
   ]
  },
  {
   "cell_type": "markdown",
   "metadata": {},
   "source": [
    "Simple Threshold For Darker Image"
   ]
  },
  {
   "cell_type": "code",
   "execution_count": 9,
   "metadata": {},
   "outputs": [
    {
     "data": {
      "text/plain": [
       "array([[206, 206, 206, ..., 187, 186, 184],\n",
       "       [206, 206, 206, ..., 186, 185, 185],\n",
       "       [206, 206, 206, ..., 186, 185, 185],\n",
       "       ...,\n",
       "       [162, 157, 152, ..., 184, 184, 184],\n",
       "       [160, 156, 152, ..., 184, 184, 184],\n",
       "       [156, 158, 158, ..., 184, 184, 184]], dtype=uint8)"
      ]
     },
     "execution_count": 9,
     "metadata": {},
     "output_type": "execute_result"
    }
   ],
   "source": [
    "img = cv2.imread(\"../resources/dark_image.jpg\", flags = cv2.IMREAD_GRAYSCALE)\n",
    "img"
   ]
  },
  {
   "cell_type": "code",
   "execution_count": 10,
   "metadata": {},
   "outputs": [],
   "source": [
    "_, new_img = cv2.threshold(img,150,255,cv2.THRESH_BINARY)\n",
    "Image.fromarray(new_img).show()"
   ]
  },
  {
   "cell_type": "markdown",
   "metadata": {},
   "source": [
    "Adaptive ThresholdFor Darker Image"
   ]
  },
  {
   "cell_type": "code",
   "execution_count": 13,
   "metadata": {},
   "outputs": [],
   "source": [
    "new_img = cv2.adaptiveThreshold(\n",
    "    img, 255, #max value 2nd argument\n",
    "    cv2.ADAPTIVE_THRESH_GAUSSIAN_C, \n",
    "    cv2.THRESH_BINARY, \n",
    "    61,\n",
    "    11\n",
    ")\n",
    "Image.fromarray(new_img).show() #much better post process result showing"
   ]
  },
  {
   "cell_type": "code",
   "execution_count": null,
   "metadata": {},
   "outputs": [],
   "source": []
  }
 ],
 "metadata": {
  "kernelspec": {
   "display_name": "Python 3",
   "language": "python",
   "name": "python3"
  },
  "language_info": {
   "codemirror_mode": {
    "name": "ipython",
    "version": 3
   },
   "file_extension": ".py",
   "mimetype": "text/x-python",
   "name": "python",
   "nbconvert_exporter": "python",
   "pygments_lexer": "ipython3",
   "version": "3.8.10"
  },
  "orig_nbformat": 4,
  "vscode": {
   "interpreter": {
    "hash": "6dd4dbfb17be9045a2a0554e1e503e87d35dcb15510409fb707a25b83c2c99ce"
   }
  }
 },
 "nbformat": 4,
 "nbformat_minor": 2
}
